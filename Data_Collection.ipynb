{
  "nbformat": 4,
  "nbformat_minor": 0,
  "metadata": {
    "colab": {
      "provenance": []
    },
    "kernelspec": {
      "name": "python3",
      "display_name": "Python 3"
    },
    "language_info": {
      "name": "python"
    }
  },
  "cells": [
    {
      "cell_type": "markdown",
      "source": [
        "Install & Import"
      ],
      "metadata": {
        "id": "MclzDk9-kyL2"
      }
    },
    {
      "cell_type": "code",
      "source": [
        "pip install -q google-play-scraper tqdm\n",
        "\n",
        "from google_play_scraper import app, reviews, Sort\n",
        "from tqdm import tqdm\n",
        "from datetime import datetime\n",
        "import csv, json, time, os"
      ],
      "metadata": {
        "id": "CHJAhD2pk2d7",
        "colab": {
          "base_uri": "https://localhost:8080/"
        },
        "outputId": "d0cbba40-8c5b-4a7a-a6bf-4bee54841d26"
      },
      "execution_count": null,
      "outputs": [
        {
          "output_type": "stream",
          "name": "stdout",
          "text": [
            "\u001b[?25l     \u001b[90m━━━━━━━━━━━━━━━━━━━━━━━━━━━━━━━━━━━━━━━━\u001b[0m \u001b[32m0.0/50.2 kB\u001b[0m \u001b[31m?\u001b[0m eta \u001b[36m-:--:--\u001b[0m\r\u001b[2K     \u001b[90m━━━━━━━━━━━━━━━━━━━━━━━━━━━━━━━━━━━━━━━━\u001b[0m \u001b[32m50.2/50.2 kB\u001b[0m \u001b[31m2.8 MB/s\u001b[0m eta \u001b[36m0:00:00\u001b[0m\n",
            "\u001b[?25h"
          ]
        }
      ]
    },
    {
      "cell_type": "markdown",
      "source": [
        "Parameters"
      ],
      "metadata": {
        "id": "kt7U_p11k4gB"
      }
    },
    {
      "cell_type": "code",
      "source": [
        "APP_ID = \"com.openai.chatgpt\"\n",
        "LANG = \"en\"\n",
        "COUNTRY = \"us\"\n",
        "SORT = Sort.NEWEST\n",
        "PAGE_SIZE = 200\n",
        "SLEEP_MS = 250\n",
        "CHUNK = 200"
      ],
      "metadata": {
        "id": "t79_DSOWk3hH"
      },
      "execution_count": null,
      "outputs": []
    },
    {
      "cell_type": "code",
      "source": [
        "def to_serializable_row(r):\n",
        "    d = dict(r)\n",
        "    for k, v in list(d.items()):\n",
        "        if isinstance(v, (datetime, pd.Timestamp)):\n",
        "            try:\n",
        "                d[k] = v.strftime(\"%Y-%m-%d %H:%M:%S\")\n",
        "            except Exception:\n",
        "                d[k] = str(v)\n",
        "    return d"
      ],
      "metadata": {
        "id": "7il4mgNWlGt6"
      },
      "execution_count": null,
      "outputs": []
    },
    {
      "cell_type": "code",
      "source": [
        "csv_path = \"ChatGPT_Review.csv\"\n",
        "jsonl_path = \"ChatGPT_Review.jsonl\"\n",
        "meta_path = \"App_Metadata.json\"\n",
        "\n",
        "# Clean previous outputs\n",
        "if os.path.exists(csv_path):\n",
        "    os.remove(csv_path)\n",
        "if os.path.exists(jsonl_path):\n",
        "    os.remove(jsonl_path)"
      ],
      "metadata": {
        "id": "QP_qQF9LlL04"
      },
      "execution_count": null,
      "outputs": []
    },
    {
      "cell_type": "markdown",
      "source": [
        "APP Information"
      ],
      "metadata": {
        "id": "5RpXQonJmd-U"
      }
    },
    {
      "cell_type": "code",
      "source": [
        "raw = app(APP_ID, lang=LANG, country=COUNTRY)\n",
        "\n",
        "info = {\n",
        "    \"Title\": raw.get(\"title\"),\n",
        "    \"App ID\": raw.get(\"appId\"),\n",
        "    \"Developer\": raw.get(\"developer\"),\n",
        "    \"Genre\": raw.get(\"genre\"),\n",
        "    \"Score (avg)\": raw.get(\"score\"),\n",
        "    \"Ratings count\": raw.get(\"ratings\"),\n",
        "    \"Reviews count\": raw.get(\"reviews\"),\n",
        "    \"Installs (display)\": raw.get(\"installs\"),\n",
        "    \"Real installs (estimated)\": raw.get(\"realInstalls\"),\n",
        "    \"Free\": raw.get(\"free\"),\n",
        "    \"Price\": raw.get(\"price\"),\n",
        "    \"Currency\": raw.get(\"currency\"),\n",
        "    \"Sale\": raw.get(\"sale\"),\n",
        "    \"In-app purchases\": raw.get(\"offersIAP\"),\n",
        "    \"In-app product price range\": raw.get(\"inAppProductPrice\"),\n",
        "    \"URL\": raw.get(\"url\"),\n",
        "}\n",
        "\n",
        "print(\"\\nApp Information:\\n\")\n",
        "for k, v in info.items():\n",
        "    print(f\"{k:30}: {v}\")\n",
        "\n",
        "with open(meta_path, \"w\", encoding=\"utf-8\") as f:\n",
        "    json.dump(info, f, ensure_ascii=False, indent=2)\n",
        "print(f\"\\nApp metadata saved to: {meta_path}\")\n",
        "\n"
      ],
      "metadata": {
        "colab": {
          "base_uri": "https://localhost:8080/"
        },
        "id": "ntW_vzX4mgnr",
        "outputId": "cf76d761-311b-4ec5-d5f6-38606fa32693"
      },
      "execution_count": null,
      "outputs": [
        {
          "output_type": "stream",
          "name": "stdout",
          "text": [
            "\n",
            "App Information:\n",
            "\n",
            "Title                         : ChatGPT\n",
            "App ID                        : com.openai.chatgpt\n",
            "Developer                     : OpenAI\n",
            "Genre                         : Productivity\n",
            "Score (avg)                   : 4.7461176\n",
            "Ratings count                 : 29262840\n",
            "Reviews count                 : 116332\n",
            "Installs (display)            : 500,000,000+\n",
            "Real installs (estimated)     : 796675358\n",
            "Free                          : True\n",
            "Price                         : 0\n",
            "Currency                      : USD\n",
            "Sale                          : False\n",
            "In-app purchases              : True\n",
            "In-app product price range    : $19.99 - $200.00 per item\n",
            "URL                           : https://play.google.com/store/apps/details?id=com.openai.chatgpt&hl=en&gl=us\n",
            "\n",
            "App metadata saved to: App_Metadata.json\n"
          ]
        }
      ]
    },
    {
      "cell_type": "markdown",
      "source": [
        "Scraping"
      ],
      "metadata": {
        "id": "mrj8-BTNlSoM"
      }
    },
    {
      "cell_type": "code",
      "source": [
        "# Review scraping\n",
        "total = 0\n",
        "buf = []\n",
        "token = None\n",
        "first = True\n",
        "fieldnames = None\n",
        "\n",
        "print(f\"\\n[info] Starting full review scrape: app_id={APP_ID}, lang={LANG}, country={COUNTRY}, sort={SORT.name}\")\n",
        "pbar = tqdm(desc=\"Fetched\", unit=\"reviews\")\n",
        "\n",
        "try:\n",
        "    while True:\n",
        "        if first:\n",
        "            res, token = reviews(\n",
        "                APP_ID, lang=LANG, country=COUNTRY, sort=SORT, count=PAGE_SIZE\n",
        "            )\n",
        "            first = False\n",
        "        else:\n",
        "            if token is None:\n",
        "                break\n",
        "            res, token = reviews(APP_ID, continuation_token=token)\n",
        "\n",
        "        if not res:\n",
        "            break\n",
        "\n",
        "        rows = [to_serializable_row(r) for r in res]\n",
        "\n",
        "        # Initialize header once\n",
        "        if fieldnames is None:\n",
        "            fieldnames = list(rows[0].keys())\n",
        "            with open(csv_path, \"w\", encoding=\"utf-8-sig\", newline=\"\") as cf:\n",
        "                writer = csv.DictWriter(cf, fieldnames=fieldnames)\n",
        "                writer.writeheader()\n",
        "\n",
        "        buf.extend(rows)\n",
        "\n",
        "        if len(buf) >= CHUNK:\n",
        "            with open(jsonl_path, \"a\", encoding=\"utf-8\") as jf:\n",
        "                for row in buf:\n",
        "                    jf.write(json.dumps(row, ensure_ascii=False) + \"\\n\")\n",
        "            with open(csv_path, \"a\", encoding=\"utf-8-sig\", newline=\"\") as cf:\n",
        "                writer = csv.DictWriter(cf, fieldnames=fieldnames)\n",
        "                writer.writerows(buf)\n",
        "            total += len(buf)\n",
        "            pbar.update(len(buf))\n",
        "            buf.clear()\n",
        "\n",
        "        time.sleep(SLEEP_MS / 1000.0)\n",
        "\n",
        "    # Flush remaining data\n",
        "    if buf:\n",
        "        with open(jsonl_path, \"a\", encoding=\"utf-8\") as jf:\n",
        "            for row in buf:\n",
        "                jf.write(json.dumps(row, ensure_ascii=False) + \"\\n\")\n",
        "        with open(csv_path, \"a\", encoding=\"utf-8-sig\", newline=\"\") as cf:\n",
        "            writer = csv.DictWriter(cf, fieldnames=fieldnames)\n",
        "            writer.writerows(buf)\n",
        "        total += len(buf)\n",
        "        pbar.update(len(buf))\n",
        "        buf.clear()\n",
        "\n",
        "finally:\n",
        "    pbar.close()\n",
        "\n",
        "print(f\"\\nFull scraping completed, total {total:,} reviews collected.\")\n",
        "print(f\"CSV  : {csv_path}\")\n",
        "print(f\"JSONL: {jsonl_path}\")\n",
        "\n"
      ],
      "metadata": {
        "colab": {
          "base_uri": "https://localhost:8080/"
        },
        "id": "CQMQDOyqlSCC",
        "outputId": "e89df007-1c39-48e3-e38b-3b2b834fc9ff"
      },
      "execution_count": null,
      "outputs": [
        {
          "metadata": {
            "tags": null
          },
          "name": "stdout",
          "output_type": "stream",
          "text": [
            "\n",
            "[info] Starting full review scrape: app_id=com.openai.chatgpt, lang=en, country=us, sort=NEWEST\n"
          ]
        },
        {
          "output_type": "stream",
          "name": "stderr",
          "text": [
            "Fetched: 1477847reviews [2:04:33, 197.76reviews/s]"
          ]
        },
        {
          "output_type": "stream",
          "name": "stdout",
          "text": [
            "\n",
            "Full scraping completed, total 1,477,847 reviews collected.\n",
            "CSV  : ChatGPT_Review.csv\n",
            "JSONL: ChatGPT_Review.jsonl\n"
          ]
        },
        {
          "output_type": "stream",
          "name": "stderr",
          "text": [
            "\n"
          ]
        }
      ]
    },
    {
      "cell_type": "code",
      "source": [
        "# Preview\n",
        "df_preview = pd.read_csv(csv_path, nrows=5, low_memory=False)\n",
        "print(\"\\nPreview of first 5 rows:\")\n",
        "print(df_preview.to_string(index=False))\n",
        "\n"
      ],
      "metadata": {
        "colab": {
          "base_uri": "https://localhost:8080/"
        },
        "id": "OtMnpuCJlfEM",
        "outputId": "1b1da0a7-3e71-4dd0-c9b3-cef8529e5cee"
      },
      "execution_count": null,
      "outputs": [
        {
          "output_type": "stream",
          "name": "stdout",
          "text": [
            "\n",
            "Preview of first 5 rows:\n",
            "      3-13 16:09:18  Unnamed: 1  Unnamed: 2 1.2025.063\n",
            "2025-03-13 16:09:04         NaN         NaN 1.2025.063\n",
            "2025-03-13 16:08:38         NaN         NaN 1.2025.063\n",
            "2025-03-13 16:08:34         NaN         NaN 1.2025.063\n",
            "2025-03-13 16:08:27         NaN         NaN 1.2025.063\n",
            "2025-03-13 16:07:37         NaN         NaN 1.2025.056\n"
          ]
        }
      ]
    }
  ]
}